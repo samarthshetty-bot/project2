{
 "cells": [
  {
   "cell_type": "markdown",
   "id": "84da2496-d46a-429a-92a1-a38133115371",
   "metadata": {
    "editable": true,
    "slideshow": {
     "slide_type": ""
    },
    "tags": []
   },
   "source": [
    " # H1:Data Science Tools and Ecosystem"
   ]
  },
  {
   "cell_type": "markdown",
   "id": "fa2c78a6-0e79-42bf-bf01-5c5181f285d8",
   "metadata": {},
   "source": [
    "In this notebook, Data Science Tools and Ecosystem are summarized."
   ]
  },
  {
   "cell_type": "code",
   "execution_count": null,
   "id": "da50fd60-2b98-4e9e-b0b3-91f4d0bd8f75",
   "metadata": {},
   "outputs": [],
   "source": [
    "Some of the popular languages that Data Scientists use are:\n",
    "1. machine learning\n",
    "2. sql\n",
    "3. maths\n",
    "4. static\n"
   ]
  },
  {
   "cell_type": "markdown",
   "id": "cee713b7-e715-49a0-9448-c1761642d87e",
   "metadata": {
    "editable": true,
    "slideshow": {
     "slide_type": ""
    },
    "tags": []
   },
   "source": [
    "Some of the commonly used libraries used by Data Scientists include:\n",
    "1. matplotlib\n",
    "2. scikit-learn\n",
    "3. pandas"
   ]
  },
  {
   "cell_type": "markdown",
   "id": "f4cf222e-b4e7-42d1-a92f-0f4b0e684a21",
   "metadata": {},
   "source": [
    "\n",
    "|Data Science Tools | \n",
    "| ------ | \n",
    "| git | \n",
    "|notebook | \n",
    "| sql | \n",
    " "
   ]
  },
  {
   "cell_type": "markdown",
   "id": "8f4662c2-ec87-42e8-a3a5-e3efd005211c",
   "metadata": {},
   "source": [
    "# H3: Below are a few examples of evaluating arithmetic expressions in Python."
   ]
  },
  {
   "cell_type": "code",
   "execution_count": null,
   "id": "d88f6a73-cd96-4d20-bc2a-0890e6ddcdd9",
   "metadata": {},
   "outputs": [],
   "source": []
  }
 ],
 "metadata": {
  "kernelspec": {
   "display_name": "",
   "name": ""
  },
  "language_info": {
   "name": ""
  }
 },
 "nbformat": 4,
 "nbformat_minor": 5
}
